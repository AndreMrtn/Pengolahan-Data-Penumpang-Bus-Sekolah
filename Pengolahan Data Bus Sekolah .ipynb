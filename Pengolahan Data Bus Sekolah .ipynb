{
 "cells": [
  {
   "cell_type": "markdown",
   "id": "fc397aa2",
   "metadata": {},
   "source": [
    "# Data Preparation\n",
    "### Import Library"
   ]
  },
  {
   "cell_type": "code",
   "execution_count": 2,
   "id": "1257e821",
   "metadata": {},
   "outputs": [],
   "source": [
    "import matplotlib.pyplot as plt\n",
    "import pandas as pd\n",
    "import seaborn as sns"
   ]
  },
  {
   "cell_type": "markdown",
   "id": "0ce7bc37",
   "metadata": {},
   "source": [
    "### Membaca dataset"
   ]
  },
  {
   "cell_type": "code",
   "execution_count": 14,
   "id": "e4c26931",
   "metadata": {},
   "outputs": [
    {
     "data": {
      "text/html": [
       "<div>\n",
       "<style scoped>\n",
       "    .dataframe tbody tr th:only-of-type {\n",
       "        vertical-align: middle;\n",
       "    }\n",
       "\n",
       "    .dataframe tbody tr th {\n",
       "        vertical-align: top;\n",
       "    }\n",
       "\n",
       "    .dataframe thead th {\n",
       "        text-align: right;\n",
       "    }\n",
       "</style>\n",
       "<table border=\"1\" class=\"dataframe\">\n",
       "  <thead>\n",
       "    <tr style=\"text-align: right;\">\n",
       "      <th></th>\n",
       "      <th>type_operasi</th>\n",
       "      <th>area_operasi</th>\n",
       "      <th>jumlah_bus</th>\n",
       "      <th>jumlah_penumpang</th>\n",
       "    </tr>\n",
       "  </thead>\n",
       "  <tbody>\n",
       "    <tr>\n",
       "      <th>0</th>\n",
       "      <td>RSUD CENGKARENG</td>\n",
       "      <td>JAKARTA</td>\n",
       "      <td>125.0</td>\n",
       "      <td>5203.0</td>\n",
       "    </tr>\n",
       "    <tr>\n",
       "      <th>1</th>\n",
       "      <td>RSUD CENGKARENG</td>\n",
       "      <td>BOGOR</td>\n",
       "      <td>NaN</td>\n",
       "      <td>NaN</td>\n",
       "    </tr>\n",
       "    <tr>\n",
       "      <th>2</th>\n",
       "      <td>RSUD CENGKARENG</td>\n",
       "      <td>DEPOK</td>\n",
       "      <td>30.0</td>\n",
       "      <td>692.0</td>\n",
       "    </tr>\n",
       "    <tr>\n",
       "      <th>3</th>\n",
       "      <td>RSUD CENGKARENG</td>\n",
       "      <td>TANGERANG</td>\n",
       "      <td>70.0</td>\n",
       "      <td>1232.0</td>\n",
       "    </tr>\n",
       "    <tr>\n",
       "      <th>4</th>\n",
       "      <td>RSUD CENGKARENG</td>\n",
       "      <td>BEKASI</td>\n",
       "      <td>24.0</td>\n",
       "      <td>233.0</td>\n",
       "    </tr>\n",
       "    <tr>\n",
       "      <th>5</th>\n",
       "      <td>RSUD DUREN SAWIT</td>\n",
       "      <td>JAKARTA</td>\n",
       "      <td>95.0</td>\n",
       "      <td>4887.0</td>\n",
       "    </tr>\n",
       "    <tr>\n",
       "      <th>6</th>\n",
       "      <td>RSUD DUREN SAWIT</td>\n",
       "      <td>BOGOR</td>\n",
       "      <td>NaN</td>\n",
       "      <td>NaN</td>\n",
       "    </tr>\n",
       "    <tr>\n",
       "      <th>7</th>\n",
       "      <td>RSUD DUREN SAWIT</td>\n",
       "      <td>DEPOK</td>\n",
       "      <td>NaN</td>\n",
       "      <td>NaN</td>\n",
       "    </tr>\n",
       "    <tr>\n",
       "      <th>8</th>\n",
       "      <td>RSUD DUREN SAWIT</td>\n",
       "      <td>TANGERANG</td>\n",
       "      <td>NaN</td>\n",
       "      <td>NaN</td>\n",
       "    </tr>\n",
       "    <tr>\n",
       "      <th>9</th>\n",
       "      <td>RSUD DUREN SAWIT</td>\n",
       "      <td>BEKASI</td>\n",
       "      <td>NaN</td>\n",
       "      <td>NaN</td>\n",
       "    </tr>\n",
       "  </tbody>\n",
       "</table>\n",
       "</div>"
      ],
      "text/plain": [
       "       type_operasi area_operasi  jumlah_bus  jumlah_penumpang\n",
       "0   RSUD CENGKARENG      JAKARTA       125.0            5203.0\n",
       "1   RSUD CENGKARENG        BOGOR         NaN               NaN\n",
       "2   RSUD CENGKARENG        DEPOK        30.0             692.0\n",
       "3   RSUD CENGKARENG    TANGERANG        70.0            1232.0\n",
       "4   RSUD CENGKARENG       BEKASI        24.0             233.0\n",
       "5  RSUD DUREN SAWIT      JAKARTA        95.0            4887.0\n",
       "6  RSUD DUREN SAWIT        BOGOR         NaN               NaN\n",
       "7  RSUD DUREN SAWIT        DEPOK         NaN               NaN\n",
       "8  RSUD DUREN SAWIT    TANGERANG         NaN               NaN\n",
       "9  RSUD DUREN SAWIT       BEKASI         NaN               NaN"
      ]
     },
     "execution_count": 14,
     "metadata": {},
     "output_type": "execute_result"
    }
   ],
   "source": [
    "df = pd.read_csv('C:/Users/Asus/Documents/DSLS/Dataset/data_penumpang_bus_sekolah_bulan_januari.csv')\n",
    "df.head(10)"
   ]
  },
  {
   "cell_type": "code",
   "execution_count": 16,
   "id": "0368ee39",
   "metadata": {},
   "outputs": [
    {
     "name": "stdout",
     "output_type": "stream",
     "text": [
      "<class 'pandas.core.frame.DataFrame'>\n",
      "RangeIndex: 441 entries, 0 to 440\n",
      "Data columns (total 4 columns):\n",
      " #   Column            Non-Null Count  Dtype  \n",
      "---  ------            --------------  -----  \n",
      " 0   type_operasi      441 non-null    object \n",
      " 1   area_operasi      441 non-null    object \n",
      " 2   jumlah_bus        412 non-null    float64\n",
      " 3   jumlah_penumpang  412 non-null    float64\n",
      "dtypes: float64(2), object(2)\n",
      "memory usage: 13.9+ KB\n"
     ]
    }
   ],
   "source": [
    "df.info()"
   ]
  },
  {
   "cell_type": "markdown",
   "id": "f113e701",
   "metadata": {},
   "source": [
    "### Mengecek data yang kosong"
   ]
  },
  {
   "cell_type": "code",
   "execution_count": 15,
   "id": "57e2923d",
   "metadata": {},
   "outputs": [
    {
     "data": {
      "text/plain": [
       "type_operasi         0\n",
       "area_operasi         0\n",
       "jumlah_bus          29\n",
       "jumlah_penumpang    29\n",
       "dtype: int64"
      ]
     },
     "execution_count": 15,
     "metadata": {},
     "output_type": "execute_result"
    }
   ],
   "source": [
    "df.isna().sum()"
   ]
  },
  {
   "cell_type": "markdown",
   "id": "d134bfcb",
   "metadata": {},
   "source": [
    "### membuang data kosong"
   ]
  },
  {
   "cell_type": "code",
   "execution_count": 17,
   "id": "3cb757f9",
   "metadata": {
    "scrolled": true
   },
   "outputs": [
    {
     "data": {
      "text/html": [
       "<div>\n",
       "<style scoped>\n",
       "    .dataframe tbody tr th:only-of-type {\n",
       "        vertical-align: middle;\n",
       "    }\n",
       "\n",
       "    .dataframe tbody tr th {\n",
       "        vertical-align: top;\n",
       "    }\n",
       "\n",
       "    .dataframe thead th {\n",
       "        text-align: right;\n",
       "    }\n",
       "</style>\n",
       "<table border=\"1\" class=\"dataframe\">\n",
       "  <thead>\n",
       "    <tr style=\"text-align: right;\">\n",
       "      <th></th>\n",
       "      <th>type_operasi</th>\n",
       "      <th>area_operasi</th>\n",
       "      <th>jumlah_bus</th>\n",
       "      <th>jumlah_penumpang</th>\n",
       "    </tr>\n",
       "  </thead>\n",
       "  <tbody>\n",
       "    <tr>\n",
       "      <th>0</th>\n",
       "      <td>RSUD CENGKARENG</td>\n",
       "      <td>JAKARTA</td>\n",
       "      <td>125.0</td>\n",
       "      <td>5203.0</td>\n",
       "    </tr>\n",
       "    <tr>\n",
       "      <th>2</th>\n",
       "      <td>RSUD CENGKARENG</td>\n",
       "      <td>DEPOK</td>\n",
       "      <td>30.0</td>\n",
       "      <td>692.0</td>\n",
       "    </tr>\n",
       "    <tr>\n",
       "      <th>3</th>\n",
       "      <td>RSUD CENGKARENG</td>\n",
       "      <td>TANGERANG</td>\n",
       "      <td>70.0</td>\n",
       "      <td>1232.0</td>\n",
       "    </tr>\n",
       "    <tr>\n",
       "      <th>4</th>\n",
       "      <td>RSUD CENGKARENG</td>\n",
       "      <td>BEKASI</td>\n",
       "      <td>24.0</td>\n",
       "      <td>233.0</td>\n",
       "    </tr>\n",
       "    <tr>\n",
       "      <th>5</th>\n",
       "      <td>RSUD DUREN SAWIT</td>\n",
       "      <td>JAKARTA</td>\n",
       "      <td>95.0</td>\n",
       "      <td>4887.0</td>\n",
       "    </tr>\n",
       "    <tr>\n",
       "      <th>11</th>\n",
       "      <td>RSUD PASAR MINGGU</td>\n",
       "      <td>BOGOR</td>\n",
       "      <td>12.0</td>\n",
       "      <td>104.0</td>\n",
       "    </tr>\n",
       "    <tr>\n",
       "      <th>12</th>\n",
       "      <td>RSUD PASAR MINGGU</td>\n",
       "      <td>DEPOK</td>\n",
       "      <td>21.0</td>\n",
       "      <td>278.0</td>\n",
       "    </tr>\n",
       "    <tr>\n",
       "      <th>14</th>\n",
       "      <td>RSUD PASAR MINGGU</td>\n",
       "      <td>BEKASI</td>\n",
       "      <td>18.0</td>\n",
       "      <td>191.0</td>\n",
       "    </tr>\n",
       "    <tr>\n",
       "      <th>16</th>\n",
       "      <td>RSUD TARAKAN</td>\n",
       "      <td>BOGOR</td>\n",
       "      <td>31.0</td>\n",
       "      <td>1593.0</td>\n",
       "    </tr>\n",
       "    <tr>\n",
       "      <th>17</th>\n",
       "      <td>RSUD TARAKAN</td>\n",
       "      <td>DEPOK</td>\n",
       "      <td>31.0</td>\n",
       "      <td>1272.0</td>\n",
       "    </tr>\n",
       "  </tbody>\n",
       "</table>\n",
       "</div>"
      ],
      "text/plain": [
       "         type_operasi area_operasi  jumlah_bus  jumlah_penumpang\n",
       "0     RSUD CENGKARENG      JAKARTA       125.0            5203.0\n",
       "2     RSUD CENGKARENG        DEPOK        30.0             692.0\n",
       "3     RSUD CENGKARENG    TANGERANG        70.0            1232.0\n",
       "4     RSUD CENGKARENG       BEKASI        24.0             233.0\n",
       "5    RSUD DUREN SAWIT      JAKARTA        95.0            4887.0\n",
       "11  RSUD PASAR MINGGU        BOGOR        12.0             104.0\n",
       "12  RSUD PASAR MINGGU        DEPOK        21.0             278.0\n",
       "14  RSUD PASAR MINGGU       BEKASI        18.0             191.0\n",
       "16       RSUD TARAKAN        BOGOR        31.0            1593.0\n",
       "17       RSUD TARAKAN        DEPOK        31.0            1272.0"
      ]
     },
     "execution_count": 17,
     "metadata": {},
     "output_type": "execute_result"
    }
   ],
   "source": [
    "df = df.dropna()\n",
    "df.head(10)"
   ]
  },
  {
   "cell_type": "markdown",
   "id": "2068fca5",
   "metadata": {},
   "source": [
    "### Mengecek jumlah baris yang duplicate "
   ]
  },
  {
   "cell_type": "code",
   "execution_count": 18,
   "id": "a3d0672d",
   "metadata": {},
   "outputs": [
    {
     "data": {
      "text/plain": [
       "138"
      ]
     },
     "execution_count": 18,
     "metadata": {},
     "output_type": "execute_result"
    }
   ],
   "source": [
    "df.duplicated().sum()"
   ]
  },
  {
   "cell_type": "markdown",
   "id": "01b418c5",
   "metadata": {},
   "source": [
    "### Membuang data yang duplicate"
   ]
  },
  {
   "cell_type": "code",
   "execution_count": 19,
   "id": "e47a584a",
   "metadata": {},
   "outputs": [
    {
     "name": "stdout",
     "output_type": "stream",
     "text": [
      "Jumlah baris sebelum memfilter duplikat:  412\n",
      "Jumlah baris setelah memfilter duplikat:  274\n"
     ]
    }
   ],
   "source": [
    "print(\"Jumlah baris sebelum memfilter duplikat: \", len(df))\n",
    "df = df.drop_duplicates()\n",
    "print(\"Jumlah baris setelah memfilter duplikat: \", len(df))"
   ]
  },
  {
   "cell_type": "markdown",
   "id": "ce919377",
   "metadata": {},
   "source": [
    "### Membuat atribut baru"
   ]
  },
  {
   "cell_type": "code",
   "execution_count": 20,
   "id": "d9f56279",
   "metadata": {},
   "outputs": [
    {
     "data": {
      "text/html": [
       "<div>\n",
       "<style scoped>\n",
       "    .dataframe tbody tr th:only-of-type {\n",
       "        vertical-align: middle;\n",
       "    }\n",
       "\n",
       "    .dataframe tbody tr th {\n",
       "        vertical-align: top;\n",
       "    }\n",
       "\n",
       "    .dataframe thead th {\n",
       "        text-align: right;\n",
       "    }\n",
       "</style>\n",
       "<table border=\"1\" class=\"dataframe\">\n",
       "  <thead>\n",
       "    <tr style=\"text-align: right;\">\n",
       "      <th></th>\n",
       "      <th>type_operasi</th>\n",
       "      <th>area_operasi</th>\n",
       "      <th>jumlah_bus</th>\n",
       "      <th>jumlah_penumpang</th>\n",
       "      <th>penumpang_per_bus</th>\n",
       "    </tr>\n",
       "  </thead>\n",
       "  <tbody>\n",
       "    <tr>\n",
       "      <th>0</th>\n",
       "      <td>RSUD CENGKARENG</td>\n",
       "      <td>JAKARTA</td>\n",
       "      <td>125.0</td>\n",
       "      <td>5203.0</td>\n",
       "      <td>41.624000</td>\n",
       "    </tr>\n",
       "    <tr>\n",
       "      <th>2</th>\n",
       "      <td>RSUD CENGKARENG</td>\n",
       "      <td>DEPOK</td>\n",
       "      <td>30.0</td>\n",
       "      <td>692.0</td>\n",
       "      <td>23.066667</td>\n",
       "    </tr>\n",
       "    <tr>\n",
       "      <th>3</th>\n",
       "      <td>RSUD CENGKARENG</td>\n",
       "      <td>TANGERANG</td>\n",
       "      <td>70.0</td>\n",
       "      <td>1232.0</td>\n",
       "      <td>17.600000</td>\n",
       "    </tr>\n",
       "    <tr>\n",
       "      <th>4</th>\n",
       "      <td>RSUD CENGKARENG</td>\n",
       "      <td>BEKASI</td>\n",
       "      <td>24.0</td>\n",
       "      <td>233.0</td>\n",
       "      <td>9.708333</td>\n",
       "    </tr>\n",
       "    <tr>\n",
       "      <th>5</th>\n",
       "      <td>RSUD DUREN SAWIT</td>\n",
       "      <td>JAKARTA</td>\n",
       "      <td>95.0</td>\n",
       "      <td>4887.0</td>\n",
       "      <td>51.442105</td>\n",
       "    </tr>\n",
       "  </tbody>\n",
       "</table>\n",
       "</div>"
      ],
      "text/plain": [
       "       type_operasi area_operasi  jumlah_bus  jumlah_penumpang  \\\n",
       "0   RSUD CENGKARENG      JAKARTA       125.0            5203.0   \n",
       "2   RSUD CENGKARENG        DEPOK        30.0             692.0   \n",
       "3   RSUD CENGKARENG    TANGERANG        70.0            1232.0   \n",
       "4   RSUD CENGKARENG       BEKASI        24.0             233.0   \n",
       "5  RSUD DUREN SAWIT      JAKARTA        95.0            4887.0   \n",
       "\n",
       "   penumpang_per_bus  \n",
       "0          41.624000  \n",
       "2          23.066667  \n",
       "3          17.600000  \n",
       "4           9.708333  \n",
       "5          51.442105  "
      ]
     },
     "execution_count": 20,
     "metadata": {},
     "output_type": "execute_result"
    }
   ],
   "source": [
    "df['penumpang_per_bus'] = df['jumlah_penumpang'] / df['jumlah_bus']\n",
    "df.head()"
   ]
  },
  {
   "cell_type": "code",
   "execution_count": 21,
   "id": "81c495a2",
   "metadata": {},
   "outputs": [
    {
     "data": {
      "text/html": [
       "<div>\n",
       "<style scoped>\n",
       "    .dataframe tbody tr th:only-of-type {\n",
       "        vertical-align: middle;\n",
       "    }\n",
       "\n",
       "    .dataframe tbody tr th {\n",
       "        vertical-align: top;\n",
       "    }\n",
       "\n",
       "    .dataframe thead th {\n",
       "        text-align: right;\n",
       "    }\n",
       "</style>\n",
       "<table border=\"1\" class=\"dataframe\">\n",
       "  <thead>\n",
       "    <tr style=\"text-align: right;\">\n",
       "      <th></th>\n",
       "      <th>type_operasi</th>\n",
       "      <th>area_operasi</th>\n",
       "      <th>jumlah_bus</th>\n",
       "      <th>jumlah_penumpang</th>\n",
       "      <th>penumpang_per_bus</th>\n",
       "      <th>nama</th>\n",
       "    </tr>\n",
       "  </thead>\n",
       "  <tbody>\n",
       "    <tr>\n",
       "      <th>0</th>\n",
       "      <td>RSUD CENGKARENG</td>\n",
       "      <td>JAKARTA</td>\n",
       "      <td>125.0</td>\n",
       "      <td>5203.0</td>\n",
       "      <td>41.624000</td>\n",
       "      <td>RSUD CENGKARENG-JA</td>\n",
       "    </tr>\n",
       "    <tr>\n",
       "      <th>2</th>\n",
       "      <td>RSUD CENGKARENG</td>\n",
       "      <td>DEPOK</td>\n",
       "      <td>30.0</td>\n",
       "      <td>692.0</td>\n",
       "      <td>23.066667</td>\n",
       "      <td>RSUD CENGKARENG-DE</td>\n",
       "    </tr>\n",
       "    <tr>\n",
       "      <th>3</th>\n",
       "      <td>RSUD CENGKARENG</td>\n",
       "      <td>TANGERANG</td>\n",
       "      <td>70.0</td>\n",
       "      <td>1232.0</td>\n",
       "      <td>17.600000</td>\n",
       "      <td>RSUD CENGKARENG-TA</td>\n",
       "    </tr>\n",
       "    <tr>\n",
       "      <th>4</th>\n",
       "      <td>RSUD CENGKARENG</td>\n",
       "      <td>BEKASI</td>\n",
       "      <td>24.0</td>\n",
       "      <td>233.0</td>\n",
       "      <td>9.708333</td>\n",
       "      <td>RSUD CENGKARENG-BE</td>\n",
       "    </tr>\n",
       "    <tr>\n",
       "      <th>5</th>\n",
       "      <td>RSUD DUREN SAWIT</td>\n",
       "      <td>JAKARTA</td>\n",
       "      <td>95.0</td>\n",
       "      <td>4887.0</td>\n",
       "      <td>51.442105</td>\n",
       "      <td>RSUD DUREN SAWIT-JA</td>\n",
       "    </tr>\n",
       "  </tbody>\n",
       "</table>\n",
       "</div>"
      ],
      "text/plain": [
       "       type_operasi area_operasi  jumlah_bus  jumlah_penumpang  \\\n",
       "0   RSUD CENGKARENG      JAKARTA       125.0            5203.0   \n",
       "2   RSUD CENGKARENG        DEPOK        30.0             692.0   \n",
       "3   RSUD CENGKARENG    TANGERANG        70.0            1232.0   \n",
       "4   RSUD CENGKARENG       BEKASI        24.0             233.0   \n",
       "5  RSUD DUREN SAWIT      JAKARTA        95.0            4887.0   \n",
       "\n",
       "   penumpang_per_bus                 nama  \n",
       "0          41.624000   RSUD CENGKARENG-JA  \n",
       "2          23.066667   RSUD CENGKARENG-DE  \n",
       "3          17.600000   RSUD CENGKARENG-TA  \n",
       "4           9.708333   RSUD CENGKARENG-BE  \n",
       "5          51.442105  RSUD DUREN SAWIT-JA  "
      ]
     },
     "execution_count": 21,
     "metadata": {},
     "output_type": "execute_result"
    }
   ],
   "source": [
    "df['nama'] = df['type_operasi'] + str(\"-\") + df['area_operasi'].str[:2] \n",
    "df.head()"
   ]
  },
  {
   "cell_type": "markdown",
   "id": "dfdb5993",
   "metadata": {},
   "source": [
    "# Analytics"
   ]
  },
  {
   "cell_type": "markdown",
   "id": "0c176955",
   "metadata": {},
   "source": [
    "### Statistika deskriptif"
   ]
  },
  {
   "cell_type": "code",
   "execution_count": 22,
   "id": "795269aa",
   "metadata": {},
   "outputs": [
    {
     "data": {
      "text/html": [
       "<div>\n",
       "<style scoped>\n",
       "    .dataframe tbody tr th:only-of-type {\n",
       "        vertical-align: middle;\n",
       "    }\n",
       "\n",
       "    .dataframe tbody tr th {\n",
       "        vertical-align: top;\n",
       "    }\n",
       "\n",
       "    .dataframe thead th {\n",
       "        text-align: right;\n",
       "    }\n",
       "</style>\n",
       "<table border=\"1\" class=\"dataframe\">\n",
       "  <thead>\n",
       "    <tr style=\"text-align: right;\">\n",
       "      <th></th>\n",
       "      <th>jumlah_bus</th>\n",
       "      <th>jumlah_penumpang</th>\n",
       "      <th>penumpang_per_bus</th>\n",
       "    </tr>\n",
       "  </thead>\n",
       "  <tbody>\n",
       "    <tr>\n",
       "      <th>count</th>\n",
       "      <td>274.000000</td>\n",
       "      <td>274.000000</td>\n",
       "      <td>274.000000</td>\n",
       "    </tr>\n",
       "    <tr>\n",
       "      <th>mean</th>\n",
       "      <td>7.631387</td>\n",
       "      <td>249.569343</td>\n",
       "      <td>16.187912</td>\n",
       "    </tr>\n",
       "    <tr>\n",
       "      <th>std</th>\n",
       "      <td>19.816537</td>\n",
       "      <td>873.158922</td>\n",
       "      <td>11.702882</td>\n",
       "    </tr>\n",
       "    <tr>\n",
       "      <th>min</th>\n",
       "      <td>1.000000</td>\n",
       "      <td>3.000000</td>\n",
       "      <td>3.000000</td>\n",
       "    </tr>\n",
       "    <tr>\n",
       "      <th>25%</th>\n",
       "      <td>1.000000</td>\n",
       "      <td>9.000000</td>\n",
       "      <td>9.000000</td>\n",
       "    </tr>\n",
       "    <tr>\n",
       "      <th>50%</th>\n",
       "      <td>1.000000</td>\n",
       "      <td>13.500000</td>\n",
       "      <td>13.000000</td>\n",
       "    </tr>\n",
       "    <tr>\n",
       "      <th>75%</th>\n",
       "      <td>1.000000</td>\n",
       "      <td>22.000000</td>\n",
       "      <td>19.000000</td>\n",
       "    </tr>\n",
       "    <tr>\n",
       "      <th>max</th>\n",
       "      <td>125.000000</td>\n",
       "      <td>6566.000000</td>\n",
       "      <td>86.903226</td>\n",
       "    </tr>\n",
       "  </tbody>\n",
       "</table>\n",
       "</div>"
      ],
      "text/plain": [
       "       jumlah_bus  jumlah_penumpang  penumpang_per_bus\n",
       "count  274.000000        274.000000         274.000000\n",
       "mean     7.631387        249.569343          16.187912\n",
       "std     19.816537        873.158922          11.702882\n",
       "min      1.000000          3.000000           3.000000\n",
       "25%      1.000000          9.000000           9.000000\n",
       "50%      1.000000         13.500000          13.000000\n",
       "75%      1.000000         22.000000          19.000000\n",
       "max    125.000000       6566.000000          86.903226"
      ]
     },
     "execution_count": 22,
     "metadata": {},
     "output_type": "execute_result"
    }
   ],
   "source": [
    "df.describe()"
   ]
  },
  {
   "cell_type": "markdown",
   "id": "4d40a0eb",
   "metadata": {},
   "source": [
    "### Korelasi antar atribut"
   ]
  },
  {
   "cell_type": "code",
   "execution_count": 23,
   "id": "827528b7",
   "metadata": {},
   "outputs": [
    {
     "data": {
      "text/html": [
       "<div>\n",
       "<style scoped>\n",
       "    .dataframe tbody tr th:only-of-type {\n",
       "        vertical-align: middle;\n",
       "    }\n",
       "\n",
       "    .dataframe tbody tr th {\n",
       "        vertical-align: top;\n",
       "    }\n",
       "\n",
       "    .dataframe thead th {\n",
       "        text-align: right;\n",
       "    }\n",
       "</style>\n",
       "<table border=\"1\" class=\"dataframe\">\n",
       "  <thead>\n",
       "    <tr style=\"text-align: right;\">\n",
       "      <th></th>\n",
       "      <th>jumlah_bus</th>\n",
       "      <th>jumlah_penumpang</th>\n",
       "      <th>penumpang_per_bus</th>\n",
       "    </tr>\n",
       "  </thead>\n",
       "  <tbody>\n",
       "    <tr>\n",
       "      <th>jumlah_bus</th>\n",
       "      <td>1.000000</td>\n",
       "      <td>0.894379</td>\n",
       "      <td>0.545446</td>\n",
       "    </tr>\n",
       "    <tr>\n",
       "      <th>jumlah_penumpang</th>\n",
       "      <td>0.894379</td>\n",
       "      <td>1.000000</td>\n",
       "      <td>0.702511</td>\n",
       "    </tr>\n",
       "    <tr>\n",
       "      <th>penumpang_per_bus</th>\n",
       "      <td>0.545446</td>\n",
       "      <td>0.702511</td>\n",
       "      <td>1.000000</td>\n",
       "    </tr>\n",
       "  </tbody>\n",
       "</table>\n",
       "</div>"
      ],
      "text/plain": [
       "                   jumlah_bus  jumlah_penumpang  penumpang_per_bus\n",
       "jumlah_bus           1.000000          0.894379           0.545446\n",
       "jumlah_penumpang     0.894379          1.000000           0.702511\n",
       "penumpang_per_bus    0.545446          0.702511           1.000000"
      ]
     },
     "execution_count": 23,
     "metadata": {},
     "output_type": "execute_result"
    }
   ],
   "source": [
    "df.corr()"
   ]
  },
  {
   "cell_type": "markdown",
   "id": "e3571e84",
   "metadata": {},
   "source": [
    "### Mencari lima data terbesar tiap atribut"
   ]
  },
  {
   "cell_type": "code",
   "execution_count": 24,
   "id": "dbc7450f",
   "metadata": {},
   "outputs": [
    {
     "data": {
      "text/html": [
       "<div>\n",
       "<style scoped>\n",
       "    .dataframe tbody tr th:only-of-type {\n",
       "        vertical-align: middle;\n",
       "    }\n",
       "\n",
       "    .dataframe tbody tr th {\n",
       "        vertical-align: top;\n",
       "    }\n",
       "\n",
       "    .dataframe thead th {\n",
       "        text-align: right;\n",
       "    }\n",
       "</style>\n",
       "<table border=\"1\" class=\"dataframe\">\n",
       "  <thead>\n",
       "    <tr style=\"text-align: right;\">\n",
       "      <th></th>\n",
       "      <th>type_operasi</th>\n",
       "      <th>area_operasi</th>\n",
       "      <th>jumlah_bus</th>\n",
       "      <th>jumlah_penumpang</th>\n",
       "      <th>penumpang_per_bus</th>\n",
       "      <th>nama</th>\n",
       "    </tr>\n",
       "  </thead>\n",
       "  <tbody>\n",
       "    <tr>\n",
       "      <th>44</th>\n",
       "      <td>R S C M</td>\n",
       "      <td>BEKASI</td>\n",
       "      <td>92.0</td>\n",
       "      <td>6566.0</td>\n",
       "      <td>71.369565</td>\n",
       "      <td>R S C M-BE</td>\n",
       "    </tr>\n",
       "    <tr>\n",
       "      <th>40</th>\n",
       "      <td>R S C M</td>\n",
       "      <td>JAKARTA</td>\n",
       "      <td>62.0</td>\n",
       "      <td>5388.0</td>\n",
       "      <td>86.903226</td>\n",
       "      <td>R S C M-JA</td>\n",
       "    </tr>\n",
       "    <tr>\n",
       "      <th>0</th>\n",
       "      <td>RSUD CENGKARENG</td>\n",
       "      <td>JAKARTA</td>\n",
       "      <td>125.0</td>\n",
       "      <td>5203.0</td>\n",
       "      <td>41.624000</td>\n",
       "      <td>RSUD CENGKARENG-JA</td>\n",
       "    </tr>\n",
       "    <tr>\n",
       "      <th>5</th>\n",
       "      <td>RSUD DUREN SAWIT</td>\n",
       "      <td>JAKARTA</td>\n",
       "      <td>95.0</td>\n",
       "      <td>4887.0</td>\n",
       "      <td>51.442105</td>\n",
       "      <td>RSUD DUREN SAWIT-JA</td>\n",
       "    </tr>\n",
       "    <tr>\n",
       "      <th>67</th>\n",
       "      <td>RSPI SULIANTI SAROSO</td>\n",
       "      <td>JAKARTA</td>\n",
       "      <td>91.0</td>\n",
       "      <td>4378.0</td>\n",
       "      <td>48.109890</td>\n",
       "      <td>RSPI SULIANTI SAROSO-JA</td>\n",
       "    </tr>\n",
       "  </tbody>\n",
       "</table>\n",
       "</div>"
      ],
      "text/plain": [
       "            type_operasi area_operasi  jumlah_bus  jumlah_penumpang  \\\n",
       "44               R S C M       BEKASI        92.0            6566.0   \n",
       "40               R S C M      JAKARTA        62.0            5388.0   \n",
       "0        RSUD CENGKARENG      JAKARTA       125.0            5203.0   \n",
       "5       RSUD DUREN SAWIT      JAKARTA        95.0            4887.0   \n",
       "67  RSPI SULIANTI SAROSO      JAKARTA        91.0            4378.0   \n",
       "\n",
       "    penumpang_per_bus                     nama  \n",
       "44          71.369565               R S C M-BE  \n",
       "40          86.903226               R S C M-JA  \n",
       "0           41.624000       RSUD CENGKARENG-JA  \n",
       "5           51.442105      RSUD DUREN SAWIT-JA  \n",
       "67          48.109890  RSPI SULIANTI SAROSO-JA  "
      ]
     },
     "execution_count": 24,
     "metadata": {},
     "output_type": "execute_result"
    }
   ],
   "source": [
    "jp = df.sort_values(by=['jumlah_penumpang'], ascending = False)\n",
    "jp.head(5)"
   ]
  },
  {
   "cell_type": "code",
   "execution_count": 25,
   "id": "255ccc92",
   "metadata": {},
   "outputs": [
    {
     "data": {
      "text/html": [
       "<div>\n",
       "<style scoped>\n",
       "    .dataframe tbody tr th:only-of-type {\n",
       "        vertical-align: middle;\n",
       "    }\n",
       "\n",
       "    .dataframe tbody tr th {\n",
       "        vertical-align: top;\n",
       "    }\n",
       "\n",
       "    .dataframe thead th {\n",
       "        text-align: right;\n",
       "    }\n",
       "</style>\n",
       "<table border=\"1\" class=\"dataframe\">\n",
       "  <thead>\n",
       "    <tr style=\"text-align: right;\">\n",
       "      <th></th>\n",
       "      <th>type_operasi</th>\n",
       "      <th>area_operasi</th>\n",
       "      <th>jumlah_bus</th>\n",
       "      <th>jumlah_penumpang</th>\n",
       "      <th>penumpang_per_bus</th>\n",
       "      <th>nama</th>\n",
       "    </tr>\n",
       "  </thead>\n",
       "  <tbody>\n",
       "    <tr>\n",
       "      <th>0</th>\n",
       "      <td>RSUD CENGKARENG</td>\n",
       "      <td>JAKARTA</td>\n",
       "      <td>125.0</td>\n",
       "      <td>5203.0</td>\n",
       "      <td>41.624000</td>\n",
       "      <td>RSUD CENGKARENG-JA</td>\n",
       "    </tr>\n",
       "    <tr>\n",
       "      <th>25</th>\n",
       "      <td>RSUD KOJA</td>\n",
       "      <td>JAKARTA</td>\n",
       "      <td>103.0</td>\n",
       "      <td>3912.0</td>\n",
       "      <td>37.980583</td>\n",
       "      <td>RSUD KOJA-JA</td>\n",
       "    </tr>\n",
       "    <tr>\n",
       "      <th>29</th>\n",
       "      <td>RSUD KOJA</td>\n",
       "      <td>BEKASI</td>\n",
       "      <td>100.0</td>\n",
       "      <td>2192.0</td>\n",
       "      <td>21.920000</td>\n",
       "      <td>RSUD KOJA-BE</td>\n",
       "    </tr>\n",
       "    <tr>\n",
       "      <th>5</th>\n",
       "      <td>RSUD DUREN SAWIT</td>\n",
       "      <td>JAKARTA</td>\n",
       "      <td>95.0</td>\n",
       "      <td>4887.0</td>\n",
       "      <td>51.442105</td>\n",
       "      <td>RSUD DUREN SAWIT-JA</td>\n",
       "    </tr>\n",
       "    <tr>\n",
       "      <th>41</th>\n",
       "      <td>R S C M</td>\n",
       "      <td>BOGOR</td>\n",
       "      <td>92.0</td>\n",
       "      <td>3617.0</td>\n",
       "      <td>39.315217</td>\n",
       "      <td>R S C M-BO</td>\n",
       "    </tr>\n",
       "  </tbody>\n",
       "</table>\n",
       "</div>"
      ],
      "text/plain": [
       "        type_operasi area_operasi  jumlah_bus  jumlah_penumpang  \\\n",
       "0    RSUD CENGKARENG      JAKARTA       125.0            5203.0   \n",
       "25         RSUD KOJA      JAKARTA       103.0            3912.0   \n",
       "29         RSUD KOJA       BEKASI       100.0            2192.0   \n",
       "5   RSUD DUREN SAWIT      JAKARTA        95.0            4887.0   \n",
       "41           R S C M        BOGOR        92.0            3617.0   \n",
       "\n",
       "    penumpang_per_bus                 nama  \n",
       "0           41.624000   RSUD CENGKARENG-JA  \n",
       "25          37.980583         RSUD KOJA-JA  \n",
       "29          21.920000         RSUD KOJA-BE  \n",
       "5           51.442105  RSUD DUREN SAWIT-JA  \n",
       "41          39.315217           R S C M-BO  "
      ]
     },
     "execution_count": 25,
     "metadata": {},
     "output_type": "execute_result"
    }
   ],
   "source": [
    "jb = df.sort_values(by=['jumlah_bus'], ascending = False)\n",
    "jb.head()"
   ]
  },
  {
   "cell_type": "code",
   "execution_count": 26,
   "id": "8cf9f443",
   "metadata": {},
   "outputs": [
    {
     "data": {
      "text/html": [
       "<div>\n",
       "<style scoped>\n",
       "    .dataframe tbody tr th:only-of-type {\n",
       "        vertical-align: middle;\n",
       "    }\n",
       "\n",
       "    .dataframe tbody tr th {\n",
       "        vertical-align: top;\n",
       "    }\n",
       "\n",
       "    .dataframe thead th {\n",
       "        text-align: right;\n",
       "    }\n",
       "</style>\n",
       "<table border=\"1\" class=\"dataframe\">\n",
       "  <thead>\n",
       "    <tr style=\"text-align: right;\">\n",
       "      <th></th>\n",
       "      <th>type_operasi</th>\n",
       "      <th>area_operasi</th>\n",
       "      <th>jumlah_bus</th>\n",
       "      <th>jumlah_penumpang</th>\n",
       "      <th>penumpang_per_bus</th>\n",
       "      <th>nama</th>\n",
       "    </tr>\n",
       "  </thead>\n",
       "  <tbody>\n",
       "    <tr>\n",
       "      <th>40</th>\n",
       "      <td>R S C M</td>\n",
       "      <td>JAKARTA</td>\n",
       "      <td>62.0</td>\n",
       "      <td>5388.0</td>\n",
       "      <td>86.903226</td>\n",
       "      <td>R S C M-JA</td>\n",
       "    </tr>\n",
       "    <tr>\n",
       "      <th>44</th>\n",
       "      <td>R S C M</td>\n",
       "      <td>BEKASI</td>\n",
       "      <td>92.0</td>\n",
       "      <td>6566.0</td>\n",
       "      <td>71.369565</td>\n",
       "      <td>R S C M-BE</td>\n",
       "    </tr>\n",
       "    <tr>\n",
       "      <th>31</th>\n",
       "      <td>RS PONDOK INDAH</td>\n",
       "      <td>BOGOR</td>\n",
       "      <td>31.0</td>\n",
       "      <td>1870.0</td>\n",
       "      <td>60.322581</td>\n",
       "      <td>RS PONDOK INDAH-BO</td>\n",
       "    </tr>\n",
       "    <tr>\n",
       "      <th>42</th>\n",
       "      <td>R S C M</td>\n",
       "      <td>DEPOK</td>\n",
       "      <td>62.0</td>\n",
       "      <td>3627.0</td>\n",
       "      <td>58.500000</td>\n",
       "      <td>R S C M-DE</td>\n",
       "    </tr>\n",
       "    <tr>\n",
       "      <th>18</th>\n",
       "      <td>RSUD TARAKAN</td>\n",
       "      <td>TANGERANG</td>\n",
       "      <td>58.0</td>\n",
       "      <td>3162.0</td>\n",
       "      <td>54.517241</td>\n",
       "      <td>RSUD TARAKAN-TA</td>\n",
       "    </tr>\n",
       "  </tbody>\n",
       "</table>\n",
       "</div>"
      ],
      "text/plain": [
       "       type_operasi area_operasi  jumlah_bus  jumlah_penumpang  \\\n",
       "40          R S C M      JAKARTA        62.0            5388.0   \n",
       "44          R S C M       BEKASI        92.0            6566.0   \n",
       "31  RS PONDOK INDAH        BOGOR        31.0            1870.0   \n",
       "42          R S C M        DEPOK        62.0            3627.0   \n",
       "18     RSUD TARAKAN    TANGERANG        58.0            3162.0   \n",
       "\n",
       "    penumpang_per_bus                nama  \n",
       "40          86.903226          R S C M-JA  \n",
       "44          71.369565          R S C M-BE  \n",
       "31          60.322581  RS PONDOK INDAH-BO  \n",
       "42          58.500000          R S C M-DE  \n",
       "18          54.517241     RSUD TARAKAN-TA  "
      ]
     },
     "execution_count": 26,
     "metadata": {},
     "output_type": "execute_result"
    }
   ],
   "source": [
    "ppb = df.sort_values(by=['penumpang_per_bus'], ascending = False)\n",
    "ppb.head()"
   ]
  },
  {
   "cell_type": "markdown",
   "id": "55ff25cb",
   "metadata": {},
   "source": [
    "### Mengelompokkan data berdasar area operasi"
   ]
  },
  {
   "cell_type": "code",
   "execution_count": 27,
   "id": "0e08747a",
   "metadata": {},
   "outputs": [
    {
     "data": {
      "text/plain": [
       "area_operasi\n",
       "BEKASI             10\n",
       "BOGOR               8\n",
       "DEPOK               7\n",
       "JAKARTA             9\n",
       "RS Wisma Atlet    235\n",
       "TANGERANG           5\n",
       "Name: type_operasi, dtype: int64"
      ]
     },
     "execution_count": 27,
     "metadata": {},
     "output_type": "execute_result"
    }
   ],
   "source": [
    "n_by_area =  df.groupby('area_operasi')['type_operasi'].count()\n",
    "n_by_area"
   ]
  },
  {
   "cell_type": "markdown",
   "id": "ab629d3a",
   "metadata": {},
   "source": [
    "# Data Visualization"
   ]
  },
  {
   "cell_type": "markdown",
   "id": "3d47ef7a",
   "metadata": {},
   "source": [
    "### Heatmap yang menunjukkan korelasi antar atribut"
   ]
  },
  {
   "cell_type": "code",
   "execution_count": 28,
   "id": "2a98314e",
   "metadata": {},
   "outputs": [
    {
     "data": {
      "text/plain": [
       "<AxesSubplot:>"
      ]
     },
     "execution_count": 28,
     "metadata": {},
     "output_type": "execute_result"
    },
    {
     "data": {
      "image/png": "[encoded data removed]",
      "text/plain": [
       "<Figure size 432x288 with 2 Axes>"
      ]
     },
     "metadata": {
      "needs_background": "light"
     },
     "output_type": "display_data"
    }
   ],
   "source": [
    "sns.heatmap(df.corr(), annot =True)"
   ]
  },
  {
   "cell_type": "markdown",
   "id": "b65cc837",
   "metadata": {},
   "source": [
    "### Visualisasi pengelompokkan berdasar area"
   ]
  },
  {
   "cell_type": "code",
   "execution_count": 29,
   "id": "f0e3f352",
   "metadata": {},
   "outputs": [
    {
     "data": {
      "image/png": "[encoded data removed]",
      "text/plain": [
       "<Figure size 432x288 with 1 Axes>"
      ]
     },
     "metadata": {
      "needs_background": "light"
     },
     "output_type": "display_data"
    }
   ],
   "source": [
    "n_by_area.plot.barh('y_axis','x_axis')\n",
    "plt.title('Distribusi Berdasar Area Operasi')\n",
    "plt.show()"
   ]
  },
  {
   "cell_type": "markdown",
   "id": "9a5f4af1",
   "metadata": {},
   "source": [
    "### Visualisasi pengelompokkan berdasar area tanpa RS Wisma Atlet"
   ]
  },
  {
   "cell_type": "code",
   "execution_count": 30,
   "id": "282f43ac",
   "metadata": {},
   "outputs": [
    {
     "data": {
      "image/png": "[encoded data removed]",
      "text/plain": [
       "<Figure size 432x288 with 1 Axes>"
      ]
     },
     "metadata": {
      "needs_background": "light"
     },
     "output_type": "display_data"
    }
   ],
   "source": [
    "x = [10,9,8,7,5]\n",
    "x.reverse()\n",
    "y = ['BEKASI','JAKARTA','BOGOR','DEPOK','TANGERANG']\n",
    "y.reverse()\n",
    "plt.barh(y,x)\n",
    "plt.title('Distribusi Berdasar Area Operasi')\n",
    "plt.show()"
   ]
  },
  {
   "cell_type": "markdown",
   "id": "ec16e377",
   "metadata": {},
   "source": [
    "### Visualisasi data terbanyak tiap atribut"
   ]
  },
  {
   "cell_type": "code",
   "execution_count": 31,
   "id": "9a699247",
   "metadata": {},
   "outputs": [
    {
     "data": {
      "image/png": "[encoded data removed]",
      "text/plain": [
       "<Figure size 432x288 with 1 Axes>"
      ]
     },
     "metadata": {
      "needs_background": "light"
     },
     "output_type": "display_data"
    }
   ],
   "source": [
    "x = list(jp.iloc[:5,3])\n",
    "x.reverse()\n",
    "y = list(jp.iloc[:5,5])\n",
    "y.reverse()\n",
    "plt.barh(y,x)\n",
    "plt.title('Lima Jumlah Penumpang Terbanyak')\n",
    "plt.show()"
   ]
  },
  {
   "cell_type": "code",
   "execution_count": 32,
   "id": "4fb84c4a",
   "metadata": {},
   "outputs": [
    {
     "data": {
      "image/png": "[encoded data removed]",
      "text/plain": [
       "<Figure size 432x288 with 1 Axes>"
      ]
     },
     "metadata": {
      "needs_background": "light"
     },
     "output_type": "display_data"
    }
   ],
   "source": [
    "x = list(jb.iloc[:5,2])\n",
    "x.reverse()\n",
    "y = list(jb.iloc[:5,5])\n",
    "y.reverse()\n",
    "plt.barh(y,x)\n",
    "plt.title('Lima Jumlah Bus Terbanyak')\n",
    "plt.show()"
   ]
  },
  {
   "cell_type": "code",
   "execution_count": 41,
   "id": "a552fcbb",
   "metadata": {},
   "outputs": [
    {
     "data": {
      "image/png": "[encoded data removed]",
      "text/plain": [
       "<Figure size 432x288 with 1 Axes>"
      ]
     },
     "metadata": {
      "needs_background": "light"
     },
     "output_type": "display_data"
    }
   ],
   "source": [
    "x = list(ppb.iloc[:5,4])\n",
    "x.reverse()\n",
    "y = list(ppb.iloc[:5,5])\n",
    "y.reverse()\n",
    "plt.barh(y,x)\n",
    "plt.title('Lima Penumpang per Bus Terbanyak')\n",
    "plt.show()"
   ]
  },
  {
   "cell_type": "code",
   "execution_count": null,
   "id": "822f460f",
   "metadata": {},
   "outputs": [],
   "source": []
  }
 ],
 "metadata": {
  "kernelspec": {
   "display_name": "Python 3",
   "language": "python",
   "name": "python3"
  },
  "language_info": {
   "codemirror_mode": {
    "name": "ipython",
    "version": 3
   },
   "file_extension": ".py",
   "mimetype": "text/x-python",
   "name": "python",
   "nbconvert_exporter": "python",
   "pygments_lexer": "ipython3",
   "version": "3.8.8"
  }
 },
 "nbformat": 4,
 "nbformat_minor": 5
}
